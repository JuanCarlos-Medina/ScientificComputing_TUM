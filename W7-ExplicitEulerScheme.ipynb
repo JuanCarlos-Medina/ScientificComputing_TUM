{
 "cells": [
  {
   "cell_type": "markdown",
   "metadata": {},
   "source": [
    "# Explicit Euler Scheme"
   ]
  },
  {
   "cell_type": "markdown",
   "metadata": {},
   "source": [
    "Solving the system of ODE's of a particle with a constant charge q=1 which is suspended in water. The system is given by: $$dv_x(t)= -v_x(t)+2t*v_y(t)+1 $$\n",
    "\n",
    "$$dv_y(t)= -2t*v_x(t)-v_y(t) $$\n",
    "\n",
    "We obtain the Euler method\n",
    "$$ v_x(t+\\tau)=(1-\\tau)*v_x(t)+2\\tau*t*v_y(t)+\\tau$$\n",
    "$$ v_y(t+\\tau)=(1-\\tau)*v_y(t)-2\\tau*t*v_x(t)$$\n",
    "\n",
    "We compare the error (L2 Norm) with the analytical solution: $$v_x(t)=0.5 + 0.5*e^{-t}(sin(t)-cos(t))$$\n",
    " $$v_y(t)=0.5 + 0.5*e^{-t}(sin(t)+cos(t))$$"
   ]
  },
  {
   "cell_type": "code",
   "execution_count": 1,
   "metadata": {
    "collapsed": true
   },
   "outputs": [],
   "source": [
    "import numpy as np\n",
    "import matplotlib.pyplot as plt\n",
    "%matplotlib inline \n",
    "\n",
    "import sympy as sp\n",
    "\n",
    "def solveODE(n, tau):\n",
    "    t = np.arange(0,n*tau,tau)\n",
    "\n",
    "    # analytical solution\n",
    "    hsint = 0.5*np.sin(t)\n",
    "    hcost = 0.5*np.cos(t)\n",
    "    expmt = np.exp(-t)\n",
    "    avx = np.add(0.5,np.multiply(expmt,np.subtract(hsint,hcost)))\n",
    "    avy = np.add(-0.5,np.multiply(expmt,np.add(hsint,hcost)))\n",
    "    \n",
    "    nvx = np.zeros(n)\n",
    "    nvy = np.zeros(n)\n",
    "    erx2 = np.zeros(n)\n",
    "    ery2 = np.zeros(n)\n",
    "\n",
    "    # Explicit Euler\n",
    "    for k in range(1,n):\n",
    "        nvx[k] = (1-tau)*nvx[k-1]+tau*nvy[k-1]+tau\n",
    "        nvy[k] = (1-tau)*nvy[k-1]-tau*nvx[k-1]\n",
    "        erx2[k] = (avx[k]-nvx[k])**2\n",
    "        ery2[k] = (avy[k]-nvy[k])**2\n",
    "\n",
    "    er = np.sqrt(np.add(erx2,ery2))\n",
    "\n",
    "    return (t, er)"
   ]
  },
  {
   "cell_type": "markdown",
   "metadata": {},
   "source": [
    "Let's implement and use the initial values"
   ]
  },
  {
   "cell_type": "code",
   "execution_count": 2,
   "metadata": {
    "collapsed": false
   },
   "outputs": [
    {
     "data": {
      "text/plain": [
       "<matplotlib.legend.Legend at 0xb9442b0>"
      ]
     },
     "execution_count": 2,
     "metadata": {},
     "output_type": "execute_result"
    },
    {
     "data": {
      "image/png": "[encoded data removed]",
      "text/plain": [
       "<matplotlib.figure.Figure at 0xbac4b70>"
      ]
     },
     "metadata": {},
     "output_type": "display_data"
    }
   ],
   "source": [
    "n = 320\n",
    "tau = 0.03125\n",
    "t1, er1 = solveODE(n, tau)\n",
    "t2, er2 = solveODE(n/2, 2*tau)\n",
    "                   \n",
    "plt.plot(t1,er1,t2,er2)\n",
    "plt.legend(['time step = '+str(tau),'time step = '+str(2*tau)])"
   ]
  },
  {
   "cell_type": "markdown",
   "metadata": {},
   "source": [
    "As we can see halving the time step yiels a reduction of the error by a factor of two. The explicit Euler method hence shows an error of the order $O(\\tau)$"
   ]
  }
 ],
 "metadata": {
  "kernelspec": {
   "display_name": "Python 2",
   "language": "python",
   "name": "python2"
  },
  "language_info": {
   "codemirror_mode": {
    "name": "ipython",
    "version": 2
   },
   "file_extension": ".py",
   "mimetype": "text/x-python",
   "name": "python",
   "nbconvert_exporter": "python",
   "pygments_lexer": "ipython2",
   "version": "2.7.10"
  }
 },
 "nbformat": 4,
 "nbformat_minor": 0
}
